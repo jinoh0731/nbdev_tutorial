{
 "cells": [
  {
   "cell_type": "markdown",
   "id": "b70e3d89",
   "metadata": {},
   "source": [
    "# basic\n",
    "\n",
    "> Some basic functions"
   ]
  },
  {
   "cell_type": "code",
   "execution_count": null,
   "id": "6afaee1f",
   "metadata": {},
   "outputs": [],
   "source": [
    "from nbdev_tutorial.core import *"
   ]
  },
  {
   "cell_type": "code",
   "execution_count": null,
   "id": "3dfe0696",
   "metadata": {},
   "outputs": [
    {
     "data": {
      "text/plain": [
       "16"
      ]
     },
     "execution_count": null,
     "metadata": {},
     "output_type": "execute_result"
    }
   ],
   "source": [
    "#you can call the function from 00_core file\n",
    "add(11,5) "
   ]
  },
  {
   "cell_type": "code",
   "execution_count": null,
   "id": "5c8a45ac",
   "metadata": {},
   "outputs": [],
   "source": [
    "#| default_exp basic"
   ]
  },
  {
   "cell_type": "code",
   "execution_count": null,
   "id": "22df40fd",
   "metadata": {},
   "outputs": [],
   "source": [
    "#| export core\n",
    "def subtract(x,y):\n",
    "    return x-y"
   ]
  },
  {
   "cell_type": "markdown",
   "id": "f30dde5f",
   "metadata": {},
   "source": [
    "*test it out!*"
   ]
  },
  {
   "cell_type": "code",
   "execution_count": null,
   "id": "6467457e",
   "metadata": {},
   "outputs": [
    {
     "data": {
      "text/plain": [
       "40"
      ]
     },
     "execution_count": null,
     "metadata": {},
     "output_type": "execute_result"
    }
   ],
   "source": [
    "x = 50\n",
    "y = 10\n",
    "subtract(x,y)"
   ]
  },
  {
   "cell_type": "code",
   "execution_count": null,
   "id": "a8d583ad",
   "metadata": {},
   "outputs": [],
   "source": [
    "#| hide\n",
    "import nbdev; nbdev.nbdev_export()"
   ]
  }
 ],
 "metadata": {
  "kernelspec": {
   "display_name": "python3",
   "language": "python",
   "name": "python3"
  }
 },
 "nbformat": 4,
 "nbformat_minor": 5
}
